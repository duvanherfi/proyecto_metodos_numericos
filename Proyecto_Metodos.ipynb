{
  "nbformat": 4,
  "nbformat_minor": 0,
  "metadata": {
    "colab": {
      "name": "Proyecto Metodos.ipynb",
      "provenance": [],
      "collapsed_sections": [],
      "include_colab_link": true
    },
    "kernelspec": {
      "name": "python3",
      "display_name": "Python 3"
    },
    "language_info": {
      "name": "python"
    }
  },
  "cells": [
    {
      "cell_type": "markdown",
      "metadata": {
        "id": "view-in-github",
        "colab_type": "text"
      },
      "source": [
        "<a href=\"https://colab.research.google.com/github/duvanherfi/proyecto_metodos_numericos/blob/main/Proyecto_Metodos.ipynb\" target=\"_parent\"><img src=\"https://colab.research.google.com/assets/colab-badge.svg\" alt=\"Open In Colab\"/></a>"
      ]
    },
    {
      "cell_type": "code",
      "source": [
        "import numpy as np\n",
        "import matplotlib.pyplot as plt\n",
        "import pandas as pd\n",
        "import seaborn as sb\n",
        "\n",
        "global vx, vy, p, tx, ty, v0, viga_iniciox, viga_finalx\n",
        "v0 = 1\n",
        "tx = 10\n",
        "ty = 10\n",
        "viga_iniciox = 3\n",
        "viga_finalx = 7\n",
        "viga_finaly = 3\n",
        "\n",
        "vx = np.zeros((tx, ty))\n",
        "vy = np.zeros((tx, ty))\n",
        "\n",
        "p = np.zeros((tx, ty))\n",
        "#############################################################################\n",
        "def r(v1,v2, p, i, j, h):\n",
        "  vi1j=v1[i+1][j]\n",
        "  vi2j=v1[i-1][j]\n",
        "  vij1=v1[i][j+1]\n",
        "  vij2=v1[i][j-1]\n",
        "  vxij = v1[i][j]\n",
        "  vyij = v2[i][j]\n",
        "  pi1j = p[i+1][j] if i+1 < len(p) else 0\n",
        "  pi2j = p[i-1][j] if i+1 < len(p) else 0\n",
        "  sumavx = vi1j+vi2j+vij1+vij2\n",
        "  restavx = vi1j-vi2j\n",
        "  primer_operando = (sumavx)-(h/2)*vxij*(restavx)-(h/2)*vyij*(restavx)\n",
        "  segundo_operando = (h/2)*(pi1j-pi2j)\n",
        "  return ((1/4)*(primer_operando-segundo_operando)-vxij)\n",
        "##############################################################################\n",
        "def iter_in_vx(w, r, h, iter):\n",
        "  for iteracion in range(0,iter):\n",
        "    fronteras_x(h)\n",
        "    for i in range(0, tx-1):\n",
        "      for j in range(0, ty-1):\n",
        "        vxji = vx[j][i]\n",
        "        valor_r = r(vx, vy, p, j, i, h)\n",
        "        wrji = w*valor_r\n",
        "        vx[j][i] = vxji+wrji\n",
        "      #print(vx)\n",
        "\n",
        "def iter_in_vy(w, r, h, iter):\n",
        "  for iteracion in range(0,iter):\n",
        "    \n",
        "    fronteras_y(h)\n",
        "    for i in range(0, tx-1):\n",
        "      for j in range(0, ty-1):\n",
        "        vxji = vy[j][i]\n",
        "        valor_r = r(vy, vx, p, j, i, h)\n",
        "        wrji = w*valor_r\n",
        "        vy[j][i] = vxji+wrji\n",
        "      #print(vx)\n",
        "###############################################################\n",
        "def fronteras_x(h):\n",
        "  ## inlet F\n",
        "  for j in range(ty):\n",
        "    vx[j][0] = vx[j][1]\n",
        "  \n",
        "  ## outlet\n",
        "  for j in range(ty):\n",
        "    vx[j][tx-1]=vx[j][tx-2]\n",
        "\n",
        "  ## surface\n",
        "  for i in range(tx):\n",
        "    vx[0][i]=v0\n",
        "\n",
        "  ## base E\n",
        "  for i in range(viga_iniciox-1):\n",
        "    vx[ty-1][i]=0\n",
        "\n",
        "  ## base A\n",
        "  for i in range(viga_finalx+2, tx):\n",
        "    vx[ty-1][i] = 0\n",
        "\n",
        "  ## viga\n",
        "  for j in range(viga_finaly, ty):\n",
        "    for i in range(viga_iniciox, viga_finalx+1):\n",
        "      vx[j][i]=0\n",
        "\n",
        "  ## viga frente\n",
        "  for i in range(viga_finaly, ty):\n",
        "    vx[i][viga_finalx-1]=0\n",
        "\n",
        "  ## viga arriba\n",
        "  for i in range(viga_iniciox, viga_finalx+1):\n",
        "    vx[viga_finaly-1][i]=0\n",
        "\n",
        "  ## viga atrás\n",
        "  for j in range(viga_finaly, ty):\n",
        "    vx[j][viga_finalx+1]=0\n",
        "#############################################################\n",
        "def fronteras_y(h):\n",
        "  ## inlet F\n",
        "  for j in range(ty):\n",
        "    vy[j][0] = 0\n",
        "    \n",
        "  ## outlet\n",
        "  for j in range(ty):\n",
        "    vy[j][tx-1]=vy[j][tx-2]\n",
        "\n",
        "  ## surface\n",
        "  for i in range(tx):\n",
        "    vy[0][i]=v0\n",
        "\n",
        "  ## base E\n",
        "  for i in range(viga_iniciox-1):\n",
        "    vy[ty-1][i]=0\n",
        "\n",
        "  ## base A\n",
        "  for i in range(viga_finalx+2, tx):\n",
        "    vy[ty-1][i] = 0\n",
        "\n",
        "  ## viga\n",
        "  for j in range(viga_finaly, ty):\n",
        "    for i in range(viga_iniciox, viga_finalx+1):\n",
        "      vy[j][i]=0\n",
        "\n",
        "  ## viga frente\n",
        "  for i in range(viga_finaly, ty):\n",
        "    vy[j][viga_iniciox-1]=(-2 * (vx[j][viga_iniciox-2]-vx[j][viga_iniciox-1]))/(h**2)\n",
        "\n",
        "  ## viga arriba\n",
        "  for i in range(viga_iniciox, viga_finalx+1):\n",
        "    vy[viga_finaly-1][i]=(-2 * (vx[viga_finaly-2][i]-vx[viga_finaly-1][i]))/(h**2)\n",
        "\n",
        "  ## viga atrás\n",
        "  for j in range(viga_finaly, ty):\n",
        "    vy[j][viga_finalx+1]=(-2 * (vx[j][viga_finalx+2]-vx[j][viga_finalx+1]))/(h**2)\n",
        "############################################################################\n",
        "def mostrar(matriz):\n",
        "  dataframe = pd.DataFrame(matriz)\n",
        "  plt.matshow(dataframe)\n",
        "  plt.colorbar()\n",
        "####################################################################\n",
        "iter_in_vx(1, r, 2, 2000)\n",
        "iter_in_vy(1, r, 2, 2000)\n",
        "###graficas\n",
        "print(\"**********************************************\")\n",
        "print(vx)\n",
        "print(vy)\n",
        "print(\"************************************************\")\n",
        "mostrar(vx)\n",
        "mostrar(vy)\n",
        "x=np.zeros_like(vx)\n",
        "y=np.zeros_like(vy)\n",
        "\n",
        "for j in range(ty):\n",
        "  for i in range(tx):\n",
        "    x[j][i] = i\n",
        "    y[j][i] = ty - j\n",
        "\n",
        "plt.figure()\n",
        "plt.quiver(x, y, vx, vy)\n",
        "plt.show()\n",
        "\n",
        "sb.heatmap(vx)\n",
        "sb.heatmap(vy)"
      ],
      "metadata": {
        "id": "FN8pmCXTlFbs",
        "colab": {
          "base_uri": "https://localhost:8080/",
          "height": 1000
        },
        "outputId": "9611f3fc-5ef8-4175-c2cd-b8a336011023"
      },
      "execution_count": 74,
      "outputs": [
        {
          "output_type": "stream",
          "name": "stdout",
          "text": [
            "**********************************************\n",
            "[[5.00000000e-01 3.75000000e-01 3.43750000e-01 3.35937500e-01\n",
            "  3.33984375e-01 3.33496094e-01 3.33374023e-01 3.33343506e-01\n",
            "  3.33335876e-01 1.00000000e+00]\n",
            " [3.36364701e-01 3.09335085e-01 2.68176694e-01 2.21332545e-01\n",
            "  2.06862085e-01 2.03042717e-01 2.04098736e-01 2.11936987e-01\n",
            "  2.39657888e-01 2.39657888e-01]\n",
            " [2.07502566e-01 2.05306924e-01 1.44985006e-01 9.15793878e-02\n",
            "  7.46103683e-02 6.94132713e-02 6.83780019e-02 1.00924805e-01\n",
            "  1.23384233e-01 1.23384233e-01]\n",
            " [1.15651864e-01 1.20670994e-01 7.90334752e-02 4.26532158e-02\n",
            "  2.93158960e-02 2.46822918e-02 2.32650734e-02 3.10474697e-02\n",
            "  5.14772341e-02 5.14772341e-02]\n",
            " [6.04067416e-02 6.58651329e-02 4.23676989e-02 2.12552287e-02\n",
            "  1.26427812e-02 9.33126825e-03 8.14908542e-03 9.79913878e-03\n",
            "  2.04254576e-02 2.04254576e-02]\n",
            " [3.03412276e-02 3.43281120e-02 2.21627035e-02 1.08544830e-02\n",
            "  5.87431605e-03 3.80139608e-03 2.98762037e-03 3.19668979e-03\n",
            "  7.87404914e-03 7.87404914e-03]\n",
            " [1.48086911e-02 1.72753898e-02 1.12656987e-02 5.53004544e-03\n",
            "  2.85109037e-03 1.66312161e-03 1.16268550e-03 1.08984382e-03\n",
            "  2.98796432e-03 2.98796432e-03]\n",
            " [6.88925507e-03 8.24852241e-03 5.43626660e-03 2.74157801e-03\n",
            "  1.39816710e-03 7.65322177e-04 4.82001918e-04 3.92961435e-04\n",
            "  1.12697525e-03 1.12697525e-03]\n",
            " [2.65385255e-03 3.27771805e-03 2.18146091e-03 1.23075973e-03\n",
            "  6.57231707e-04 3.55638471e-04 2.09410097e-04 1.50592883e-04\n",
            "  4.25856045e-04 4.25856045e-04]\n",
            " [0.00000000e+00 0.00000000e+00 0.00000000e+00 0.00000000e+00\n",
            "  0.00000000e+00 0.00000000e+00 0.00000000e+00 0.00000000e+00\n",
            "  0.00000000e+00 0.00000000e+00]]\n",
            "[[ 5.00000000e-01  3.46700212e-01  3.13777330e-01  3.09915896e-01\n",
            "   3.10333428e-01  3.10793716e-01  3.10740316e-01  3.09740696e-01\n",
            "   3.06806640e-01  1.00000000e+00]\n",
            " [ 3.04396818e-01  3.01864403e-01  2.66446232e-01  2.20617663e-01\n",
            "   2.05345490e-01  2.01377360e-01  2.03472522e-01  2.15326021e-01\n",
            "   2.47540517e-01  2.47540517e-01]\n",
            " [ 1.76671745e-01  2.00646227e-01  1.32737479e-01  7.32800986e-02\n",
            "   5.33882805e-02  4.68571405e-02  4.87322239e-02  1.03079723e-01\n",
            "   1.38480817e-01  1.38480817e-01]\n",
            " [ 9.29175169e-02  1.15762716e-01  7.57824006e-02  3.80470328e-02\n",
            "   2.32501096e-02  1.78159479e-02  1.69204827e-02  3.08001426e-02\n",
            "   5.88031895e-02  5.88031895e-02]\n",
            " [ 4.55550022e-02  6.05909235e-02  4.03220292e-02  1.97944401e-02\n",
            "   1.08346239e-02  7.20420432e-03  6.06564336e-03  9.29190021e-03\n",
            "   2.30987239e-02  2.30987239e-02]\n",
            " [ 2.13817767e-02  2.98611771e-02  2.03293991e-02  1.00846744e-02\n",
            "   5.24573609e-03  3.11933161e-03  2.30077420e-03  2.90559443e-03\n",
            "   8.72873295e-03  8.72873295e-03]\n",
            " [ 9.77477286e-03  1.41623948e-02  9.83910658e-03  4.99488742e-03\n",
            "   2.56389489e-03  1.42210358e-03  9.31388215e-04  9.60037323e-04\n",
            "   3.23828381e-03  3.23828381e-03]\n",
            " [ 4.36855540e-03  6.43815464e-03  4.53121487e-03  2.38494904e-03\n",
            "   1.23810717e-03  6.65324780e-04  3.99290482e-04  3.39926266e-04\n",
            "   1.19395318e-03  1.19395318e-03]\n",
            " [ 1.83521105e-03  2.51945747e-03  1.76714107e-03  1.03875635e-03\n",
            "   5.69419312e-04  3.08745177e-04  1.77029819e-04  1.29251819e-04\n",
            "   4.41237817e-04  4.41237817e-04]\n",
            " [ 0.00000000e+00  0.00000000e+00 -0.00000000e+00  0.00000000e+00\n",
            "   0.00000000e+00  0.00000000e+00  0.00000000e+00  0.00000000e+00\n",
            "  -0.00000000e+00  0.00000000e+00]]\n",
            "************************************************\n"
          ]
        },
        {
          "output_type": "display_data",
          "data": {
            "image/png": "[encoded data removed]",
            "text/plain": [
              "<Figure size 288x288 with 2 Axes>"
            ]
          },
          "metadata": {
            "needs_background": "light"
          }
        },
        {
          "output_type": "display_data",
          "data": {
            "image/png": "[encoded data removed]",
            "text/plain": [
              "<Figure size 288x288 with 2 Axes>"
            ]
          },
          "metadata": {
            "needs_background": "light"
          }
        },
        {
          "output_type": "display_data",
          "data": {
            "image/png": "[encoded data removed]",
            "text/plain": [
              "<Figure size 432x288 with 1 Axes>"
            ]
          },
          "metadata": {
            "needs_background": "light"
          }
        },
        {
          "output_type": "execute_result",
          "data": {
            "text/plain": [
              "<matplotlib.axes._subplots.AxesSubplot at 0x7fca19eb5290>"
            ]
          },
          "metadata": {},
          "execution_count": 74
        },
        {
          "output_type": "display_data",
          "data": {
            "image/png": "[encoded data removed]",
            "text/plain": [
              "<Figure size 432x288 with 3 Axes>"
            ]
          },
          "metadata": {
            "needs_background": "light"
          }
        }
      ]
    }
  ]
}